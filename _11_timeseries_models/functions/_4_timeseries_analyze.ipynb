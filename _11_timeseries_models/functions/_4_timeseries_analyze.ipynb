{
 "cells": [
  {
   "cell_type": "code",
   "execution_count": 2,
   "id": "92f257e7-b607-43b9-816b-1ba980e8a513",
   "metadata": {},
   "outputs": [],
   "source": [
    "import numpy as np\n",
    "import pandas as pd\n",
    "from arch import arch_model\n",
    "from tqdm import tqdm\n",
    "import matplotlib.pyplot as plt"
   ]
  },
  {
   "cell_type": "code",
   "execution_count": null,
   "id": "bca80124-2a9a-4fd5-a050-0db1a0b57f16",
   "metadata": {},
   "outputs": [],
   "source": [
    "def evaluate_garch_model(ts_train, ts_test, p, q, r, s):\n",
    "    \"\"\"\n",
    "    Evaluate a GARCH model using rolling predictions.\n",
    "    \n",
    "    Parameters:\n",
    "        ts_data (array-like): The time series data.\n",
    "        p (int): AR order for the mean model.\n",
    "        q (int): MA order for the mean model.\n",
    "        r (int): GARCH order.\n",
    "        s (int): ARCH order.\n",
    "        train_size (float): Proportion of the data to use for training (default: 0.95).\n",
    "        \n",
    "    Returns:\n",
    "        dict: Dictionary containing rolling predictions, RMSE, and training index.\n",
    "    \"\"\"\n",
    "    \n",
    "    # 2. Define the GARCH model specification\n",
    "    rolling_predictions = np.empty(len(ts_test))\n",
    "    rolling_predictions[:] = np.nan  # Initialize predictions with NaNs\n",
    "    \n",
    "    # 3. Perform rolling predictions\n",
    "    for i in tqdm(range(len(ts_test)), desc=\"Rolling Predictions\"):\n",
    "        # Incrementally increase the size of the training data with each new observation\n",
    "        ts_train_window = np.append(ts_train, ts_test[:i])\n",
    "        \n",
    "        # Fit the GARCH model\n",
    "        try:\n",
    "            print(\"adios\")\n",
    "            model = arch_model(ts_train_window, vol=\"Garch\", p=r, q=s, mean=\"ARX\", lags=p, dist=\"normal\")\n",
    "            fit = model.fit(disp=\"off\")\n",
    "            \n",
    "            # Forecast the next value\n",
    "            forecast = fit.forecast(horizon=1)\n",
    "            rolling_predictions[i] = forecast.mean.iloc[-1, 0]\n",
    "            print(\"hola\")\n",
    "        except Exception as e:\n",
    "            print(f\"Error fitting GARCH model at step {i}: {e}\")\n",
    "            rolling_predictions[i] = np.nan\n",
    "    \n",
    "    # 4. Evaluate the model using RMSE\n",
    "    actual_values = ts_test\n",
    "    rmse = np.sqrt(np.nanmean((rolling_predictions - actual_values) ** 2))\n",
    "    print(f\"Rolling RMSE: {rmse:.4f}\")\n",
    "    \n",
    "    # 5. Return the results\n",
    "    return {\"predictions\": rolling_predictions, \"rmse\": rmse, \"train_index\": train_index}"
   ]
  }
 ],
 "metadata": {
  "kernelspec": {
   "display_name": "Python 3 (ipykernel)",
   "language": "python",
   "name": "python3"
  },
  "language_info": {
   "codemirror_mode": {
    "name": "ipython",
    "version": 3
   },
   "file_extension": ".py",
   "mimetype": "text/x-python",
   "name": "python",
   "nbconvert_exporter": "python",
   "pygments_lexer": "ipython3",
   "version": "3.9.18"
  }
 },
 "nbformat": 4,
 "nbformat_minor": 5
}
