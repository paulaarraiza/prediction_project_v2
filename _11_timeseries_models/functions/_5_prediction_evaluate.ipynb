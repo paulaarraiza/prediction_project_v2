{
 "cells": [
  {
   "cell_type": "code",
   "execution_count": 1,
   "id": "3b6eea2e-5ebd-4a02-8c0e-c2a44c7f4f23",
   "metadata": {},
   "outputs": [],
   "source": [
    "import numpy as np\n",
    "import pandas as pd\n",
    "\n",
    "def evaluate_direction_accuracy(ts_data, predictions, train_index):\n",
    "    \"\"\"\n",
    "    Evaluate the direction prediction accuracy of a model.\n",
    "    \n",
    "    Parameters:\n",
    "        ts_data (array-like): The original time series data (e.g., returns or prices).\n",
    "        predictions (array-like): Predicted values (e.g., predicted returns).\n",
    "        train_index (int): The index where the training data ends and testing begins.\n",
    "    \n",
    "    Returns:\n",
    "        dict: Dictionary containing the dataframe of actual/predicted values and the accuracy score.\n",
    "    \"\"\"\n",
    "    # Extract the test set (realized values)\n",
    "    test_length = len(ts_data) - train_index\n",
    "    realized_values = ts_data[train_index:]\n",
    "    \n",
    "    # Ensure both inputs are numeric arrays and of the same length\n",
    "    if len(predictions) != len(realized_values):\n",
    "        raise ValueError(\"Predictions and actual values must have the same length.\")\n",
    "    \n",
    "    # Create a DataFrame with realized, predicted, and correctness of direction\n",
    "    df = pd.DataFrame({\n",
    "        \"Realized\": realized_values,\n",
    "        \"Predicted\": predictions,\n",
    "        \"Correct\": np.where(realized_values * predictions >= 0, 1, 0)  # 1 if both have the same sign\n",
    "    })\n",
    "    \n",
    "    # Calculate the proportion of correct predictions\n",
    "    accuracy = df[\"Correct\"].mean()\n",
    "    print(f\"Proportion of correct direction predictions: {accuracy:.2f}\")\n",
    "    \n",
    "    # Return the results\n",
    "    return {\"df\": df, \"accuracy\": accuracy}\n",
    "\n",
    "# Example Usage:\n",
    "# Assuming `ts_ret` is your time series data (returns)\n",
    "# Assuming `prediction_result[\"predictions\"]` contains predicted returns\n",
    "# and `prediction_result[\"train_index\"]` is the training/testing split index.\n",
    "\n",
    "# predictions = prediction_result[\"predictions\"]\n",
    "# train_index = prediction_result[\"train_index\"]\n",
    "\n",
    "# Evaluate direction accuracy\n",
    "# results = evaluate_direction_accuracy(ts_ret, predictions, train_index)\n",
    "\n",
    "# Access the results\n",
    "# print(results[\"df\"])\n",
    "# print(f\"Accuracy: {results['accuracy']:.2f}\")"
   ]
  }
 ],
 "metadata": {
  "kernelspec": {
   "display_name": "Python 3 (ipykernel)",
   "language": "python",
   "name": "python3"
  },
  "language_info": {
   "codemirror_mode": {
    "name": "ipython",
    "version": 3
   },
   "file_extension": ".py",
   "mimetype": "text/x-python",
   "name": "python",
   "nbconvert_exporter": "python",
   "pygments_lexer": "ipython3",
   "version": "3.9.18"
  }
 },
 "nbformat": 4,
 "nbformat_minor": 5
}
