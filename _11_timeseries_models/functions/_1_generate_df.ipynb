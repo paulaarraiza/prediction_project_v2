{
 "cells": [
  {
   "cell_type": "code",
   "execution_count": 2,
   "id": "3383b2a0-f7e0-4a0b-8c13-ed440b721424",
   "metadata": {},
   "outputs": [],
   "source": [
    "import pandas as pd\n",
    "import numpy as np\n",
    "from scipy.interpolate import interp1d\n",
    "import matplotlib.pyplot as plt\n",
    "from datetime import datetime"
   ]
  },
  {
   "cell_type": "markdown",
   "id": "208c4b4b-caea-47c8-a76b-49002957cfd1",
   "metadata": {},
   "source": [
    "This function does the following:\n",
    "\n",
    "    1. Select Date and Close columns from the df.  \n",
    "    2. Generate Return column. \n",
    "    3. Convert to time series format. \n",
    "    4. Create regular format (i.e., insert all dates because weekends or holidays have no records)\n",
    "    5. Generate output dataframe"
   ]
  },
  {
   "cell_type": "code",
   "execution_count": 1,
   "id": "d6ab69cf-9aa6-4c8e-8878-dc60d610f625",
   "metadata": {},
   "outputs": [],
   "source": [
    "def generate_ts(df):\n",
    "    # Step 1: Select the necessary columns and format the date\n",
    "    df = df[[\"Date\", \"Close\"]].copy()\n",
    "    df[\"Date\"] = pd.to_datetime(df[\"Date\"], format=\"%d/%m/%y\")\n",
    "    df[\"Close\"] = pd.to_numeric(df[\"Close\"], errors=\"coerce\")\n",
    "    \n",
    "    # Step 2: Generate df with returns instead of raw prices\n",
    "    df[\"Return\"] = df[\"Close\"].pct_change(fill_method=\"pad\") * 100  # Convert to percentage returns\n",
    "    \n",
    "    # Step 3: Delete the first row (no return for the first observation)\n",
    "    df_ret = df.dropna(subset=[\"Return\"]).reset_index(drop=True)\n",
    "    \n",
    "    # Step 5: Create time series objects\n",
    "    ts_data = pd.Series(df_ret[\"Return\"].values, index=df_ret[\"Date\"])\n",
    "    \n",
    "    # Step 6: Create a regular date sequence for interpolation\n",
    "    all_dates_ret = pd.date_range(start=ts_data.index.min(), end=ts_data.index.max(), freq=\"D\")\n",
    "    \n",
    "    # Step 7: Merge the time series with the regular date sequence and interpolate missing values\n",
    "    ts = ts_data.reindex(all_dates_ret)\n",
    "    ts = ts.interpolate(method=\"linear\")  # Interpolate missing values\n",
    "    \n",
    "    # Step 8: Create a full dataframe for the time series (optional)\n",
    "    df_full_ret = pd.DataFrame({\"Date\": ts.index, \"Return\": ts.values})\n",
    "    \n",
    "    return {\"ts\": ts, \"df_full_ret\": df_full_ret}"
   ]
  },
  {
   "cell_type": "code",
   "execution_count": 2,
   "id": "a95eb6f0-7448-4191-a8b4-7679e4a44d2c",
   "metadata": {},
   "outputs": [],
   "source": [
    "def generate_log_ts(df):\n",
    "    # Step 1: Select the necessary columns and format the date\n",
    "    df = df[[\"Date\", \"Close\"]].copy()\n",
    "    df[\"Date\"] = pd.to_datetime(df[\"Date\"], format=\"%d/%m/%y\")\n",
    "    df[\"Close\"] = pd.to_numeric(df[\"Close\"], errors=\"coerce\")\n",
    "    # Step 2: Compute the natural log of the Close prices\n",
    "    df[\"Log_Close\"] = np.log(df[\"Close\"])\n",
    "    \n",
    "    # Step 3: Compute the first difference of the log prices\n",
    "    df[\"Return\"] = df[\"Log_Close\"].diff()\n",
    "    \n",
    "    # Step 3: Delete the first row (no return for the first observation)\n",
    "    df_ret = df.dropna(subset=[\"Return\"]).reset_index(drop=True)\n",
    "    \n",
    "    # Step 5: Create time series objects\n",
    "    ts_data = pd.Series(df_ret[\"Return\"].values, index=df_ret[\"Date\"])\n",
    "    \n",
    "    # Step 6: Create a regular date sequence for interpolation\n",
    "    all_dates_ret = pd.date_range(start=ts_data.index.min(), end=ts_data.index.max(), freq=\"D\")\n",
    "    \n",
    "    # Step 7: Merge the time series with the regular date sequence and interpolate missing values\n",
    "    ts = ts_data.reindex(all_dates_ret)\n",
    "    ts = ts.interpolate(method=\"linear\")  # Interpolate missing values\n",
    "    \n",
    "    # Step 8: Create a full dataframe for the time series (optional)\n",
    "    df_full_ret = pd.DataFrame({\"Date\": ts.index, \"Return\": ts.values})\n",
    "    \n",
    "    return {\"ts\": ts, \"df_full_ret\": df_full_ret}"
   ]
  },
  {
   "cell_type": "code",
   "execution_count": null,
   "id": "4a83a3f4-5166-4a87-be50-9a8d203f7bd0",
   "metadata": {},
   "outputs": [],
   "source": []
  }
 ],
 "metadata": {
  "kernelspec": {
   "display_name": "Python 3 (ipykernel)",
   "language": "python",
   "name": "python3"
  },
  "language_info": {
   "codemirror_mode": {
    "name": "ipython",
    "version": 3
   },
   "file_extension": ".py",
   "mimetype": "text/x-python",
   "name": "python",
   "nbconvert_exporter": "python",
   "pygments_lexer": "ipython3",
   "version": "3.9.18"
  }
 },
 "nbformat": 4,
 "nbformat_minor": 5
}
